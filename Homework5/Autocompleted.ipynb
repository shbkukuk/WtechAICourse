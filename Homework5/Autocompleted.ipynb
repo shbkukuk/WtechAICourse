{
  "nbformat": 4,
  "nbformat_minor": 0,
  "metadata": {
    "colab": {
      "name": "Autocompleted.ipynb",
      "provenance": [],
      "collapsed_sections": []
    },
    "kernelspec": {
      "name": "python3",
      "display_name": "Python 3"
    },
    "language_info": {
      "name": "python"
    }
  },
  "cells": [
    {
      "cell_type": "code",
      "execution_count": 11,
      "metadata": {
        "id": "nVEhyvFtAc91"
      },
      "outputs": [],
      "source": [
        "import numpy as np\n",
        "import tensorflow as tf\n",
        "from tensorflow.keras import layers\n",
        "from tensorflow.keras.models import Model, load_model\n",
        "from tensorflow.keras.utils import plot_model\n",
        "import matplotlib.pyplot as plt\n",
        "plt.style.use('seaborn')"
      ]
    },
    {
      "cell_type": "code",
      "source": [
        "def get_text():\n",
        "    path = tf.keras.utils.get_file('nietzche.txt',\n",
        "     origin='https://s3.amazonaws.com/text-datasets/nietzsche.txt')\n",
        "\n",
        "    text=open(path).read().lower()\n",
        "    return text"
      ],
      "metadata": {
        "id": "PsBNrCe3AwZE"
      },
      "execution_count": 24,
      "outputs": []
    },
    {
      "cell_type": "code",
      "source": [
        "text_data = get_text()\n",
        "print('Character lenght: {0}'.format(len(text_data)))"
      ],
      "metadata": {
        "colab": {
          "base_uri": "https://localhost:8080/"
        },
        "id": "DYH0SYUFAx39",
        "outputId": "55b7913a-2e4d-42f0-c510-cce9c6fd4f31"
      },
      "execution_count": 25,
      "outputs": [
        {
          "output_type": "stream",
          "name": "stdout",
          "text": [
            "Character lenght: 600893\n"
          ]
        }
      ]
    },
    {
      "cell_type": "code",
      "source": [
        "print(text_data[:100])"
      ],
      "metadata": {
        "colab": {
          "base_uri": "https://localhost:8080/"
        },
        "id": "2F0BCAZxAzRe",
        "outputId": "d1822587-3b0c-40c5-9a8d-3a1270209c63"
      },
      "execution_count": 5,
      "outputs": [
        {
          "output_type": "stream",
          "name": "stdout",
          "text": [
            "preface\n",
            "\n",
            "\n",
            "supposing that truth is a woman--what then? is there not ground\n",
            "for suspecting that all ph\n"
          ]
        }
      ]
    },
    {
      "cell_type": "code",
      "source": [
        "def preprocess_split(text, max_len, step):\n",
        "  sentences, next_char = [], []\n",
        "  for i in range(0, len(text) - max_len, step):\n",
        "    sentences.append(text[i: i + max_len])\n",
        "    next_char.append(text[i + max_len])\n",
        "  char_lst = sorted(list(set(text)))\n",
        "  char_dict = {char: char_lst.index(char) for char in char_lst}\n",
        "  X = np.zeros((len(sentences), max_len, len(char_lst)), dtype=bool)\n",
        "  y = np.zeros((len(next_char), len(char_lst)), dtype=bool)\n",
        "  for i, sentence in enumerate(sentences):\n",
        "    for j, char in enumerate(sentence):\n",
        "      X[i, j, char_dict[char]] = 1\n",
        "    y[i, char_dict[next_char[i]]] = 1\n",
        "  return X, y, char_dict"
      ],
      "metadata": {
        "id": "ksuQrIcYA2c8"
      },
      "execution_count": 12,
      "outputs": []
    },
    {
      "cell_type": "code",
      "source": [
        "max_len = 60\n",
        "step = 3\n",
        "X, y, char_dict = preprocess_split(text_data, max_len, step)\n",
        "vocab_size = len(char_dict)\n",
        "print(\"Number of sequences: {0}\\nNumber of unique characters: {1}\".format(len(X), vocab_size))"
      ],
      "metadata": {
        "colab": {
          "base_uri": "https://localhost:8080/"
        },
        "id": "TY1-wGNPA778",
        "outputId": "5ab1eee1-f8da-4f99-f401-4aac0f6c629e"
      },
      "execution_count": 7,
      "outputs": [
        {
          "output_type": "stream",
          "name": "stdout",
          "text": [
            "Number of sequences: 200278\n",
            "Number of unique characters: 57\n"
          ]
        }
      ]
    },
    {
      "cell_type": "code",
      "source": [
        "X.shape"
      ],
      "metadata": {
        "colab": {
          "base_uri": "https://localhost:8080/"
        },
        "id": "VKZtaR0w8kif",
        "outputId": "82550402-c6f2-49c0-d471-7bc8f5a2c353"
      },
      "execution_count": null,
      "outputs": [
        {
          "output_type": "execute_result",
          "data": {
            "text/plain": [
              "(200278, 60, 57)"
            ]
          },
          "metadata": {},
          "execution_count": 7
        }
      ]
    },
    {
      "cell_type": "code",
      "source": [
        "categorical_crossentropy=tf.keras.losses.categorical_crossentropy"
      ],
      "metadata": {
        "id": "_LvRt9tQA8tk"
      },
      "execution_count": 34,
      "outputs": []
    },
    {
      "cell_type": "code",
      "source": [
        "def build_model(max_len, vocab_size):\n",
        "  inputs = layers.Input(shape=(max_len, 44))\n",
        "  x = layers.LSTM(128)(inputs)\n",
        "  output = layers.Dense(vocab_size, activation=tf.nn.softmax)(x)\n",
        "  model = Model(inputs, output)\n",
        "  model.compile(optimizer='adam', loss=categorical_crossentropy)\n",
        "  return model\n"
      ],
      "metadata": {
        "id": "nDeF3q8QA-rF"
      },
      "execution_count": 21,
      "outputs": []
    },
    {
      "cell_type": "code",
      "source": [
        "model = build_model(max_len, vocab_size)\n",
        "plot_model(model, show_shapes=True, show_layer_names=True)"
      ],
      "metadata": {
        "colab": {
          "base_uri": "https://localhost:8080/",
          "height": 312
        },
        "id": "G9xDRJCWBBcd",
        "outputId": "eac39ca2-0c39-4aa1-b103-ae4500a32630"
      },
      "execution_count": 21,
      "outputs": [
        {
          "output_type": "execute_result",
          "data": {
            "text/plain": [
              "<IPython.core.display.Image object>"
            ],
            "image/png": "[encoded data removed]"
          },
          "metadata": {},
          "execution_count": 21
        }
      ]
    },
    {
      "cell_type": "code",
      "source": [
        "history = model.fit(X, y, epochs=50, batch_size=128)"
      ],
      "metadata": {
        "colab": {
          "base_uri": "https://localhost:8080/"
        },
        "id": "0ZWRnnGVBDes",
        "outputId": "28bf61e6-0dc0-4add-d384-35e3408b6ef3"
      },
      "execution_count": 22,
      "outputs": [
        {
          "output_type": "stream",
          "name": "stdout",
          "text": [
            "Epoch 1/50\n",
            "1565/1565 [==============================] - 266s 167ms/step - loss: 2.5395\n",
            "Epoch 2/50\n",
            "1565/1565 [==============================] - 263s 168ms/step - loss: 2.1736\n",
            "Epoch 3/50\n",
            "1565/1565 [==============================] - 263s 168ms/step - loss: 2.0461\n",
            "Epoch 4/50\n",
            "1565/1565 [==============================] - 263s 168ms/step - loss: 1.9577\n",
            "Epoch 5/50\n",
            "1565/1565 [==============================] - 263s 168ms/step - loss: 1.8862\n",
            "Epoch 6/50\n",
            "1565/1565 [==============================] - 263s 168ms/step - loss: 1.8277\n",
            "Epoch 7/50\n",
            "1565/1565 [==============================] - 262s 167ms/step - loss: 1.7781\n",
            "Epoch 8/50\n",
            "1565/1565 [==============================] - 259s 166ms/step - loss: 1.7368\n",
            "Epoch 9/50\n",
            "1565/1565 [==============================] - 260s 166ms/step - loss: 1.7010\n",
            "Epoch 10/50\n",
            "1565/1565 [==============================] - 262s 167ms/step - loss: 1.6744\n",
            "Epoch 11/50\n",
            "1565/1565 [==============================] - 262s 168ms/step - loss: 1.6413\n",
            "Epoch 12/50\n",
            "1565/1565 [==============================] - 263s 168ms/step - loss: 1.6205\n",
            "Epoch 13/50\n",
            "1565/1565 [==============================] - 263s 168ms/step - loss: 1.5992\n",
            "Epoch 14/50\n",
            "1565/1565 [==============================] - 264s 169ms/step - loss: 1.5789\n",
            "Epoch 15/50\n",
            "1565/1565 [==============================] - 265s 169ms/step - loss: 1.5604\n",
            "Epoch 16/50\n",
            "1565/1565 [==============================] - 264s 169ms/step - loss: 1.5427\n",
            "Epoch 17/50\n",
            "1565/1565 [==============================] - 266s 170ms/step - loss: 1.5267\n",
            "Epoch 18/50\n",
            "1565/1565 [==============================] - 266s 170ms/step - loss: 1.5113\n",
            "Epoch 19/50\n",
            "1565/1565 [==============================] - 265s 169ms/step - loss: 1.4970\n",
            "Epoch 20/50\n",
            "1565/1565 [==============================] - 267s 171ms/step - loss: 1.4844\n",
            "Epoch 21/50\n",
            "1565/1565 [==============================] - 269s 172ms/step - loss: 1.4718\n",
            "Epoch 22/50\n",
            "1565/1565 [==============================] - 268s 172ms/step - loss: 1.4601\n",
            "Epoch 23/50\n",
            "1565/1565 [==============================] - 266s 170ms/step - loss: 1.4493\n",
            "Epoch 24/50\n",
            "1565/1565 [==============================] - 266s 170ms/step - loss: 1.4393\n",
            "Epoch 25/50\n",
            "1565/1565 [==============================] - 267s 171ms/step - loss: 1.4294\n",
            "Epoch 26/50\n",
            "1565/1565 [==============================] - 266s 170ms/step - loss: 1.4197\n",
            "Epoch 27/50\n",
            "1565/1565 [==============================] - 266s 170ms/step - loss: 1.4109\n",
            "Epoch 28/50\n",
            "1565/1565 [==============================] - 267s 171ms/step - loss: 1.4026\n",
            "Epoch 29/50\n",
            "1565/1565 [==============================] - 266s 170ms/step - loss: 1.3945\n",
            "Epoch 30/50\n",
            "1565/1565 [==============================] - 265s 169ms/step - loss: 1.3871\n",
            "Epoch 31/50\n",
            "1565/1565 [==============================] - 265s 169ms/step - loss: 1.3788\n",
            "Epoch 32/50\n",
            "1565/1565 [==============================] - 266s 170ms/step - loss: 1.3723\n",
            "Epoch 33/50\n",
            "1565/1565 [==============================] - 266s 170ms/step - loss: 1.3652\n",
            "Epoch 34/50\n",
            "1565/1565 [==============================] - 267s 170ms/step - loss: 1.3577\n",
            "Epoch 35/50\n",
            "1565/1565 [==============================] - 266s 170ms/step - loss: 1.3517\n",
            "Epoch 36/50\n",
            "1565/1565 [==============================] - 268s 171ms/step - loss: 1.3450\n",
            "Epoch 37/50\n",
            "1565/1565 [==============================] - 268s 171ms/step - loss: 1.3391\n",
            "Epoch 38/50\n",
            "1565/1565 [==============================] - 269s 172ms/step - loss: 1.3326\n",
            "Epoch 39/50\n",
            "1565/1565 [==============================] - 267s 171ms/step - loss: 1.3271\n",
            "Epoch 40/50\n",
            "1565/1565 [==============================] - 269s 172ms/step - loss: 1.3225\n",
            "Epoch 41/50\n",
            "1565/1565 [==============================] - 269s 172ms/step - loss: 1.3140\n",
            "Epoch 42/50\n",
            "1565/1565 [==============================] - 268s 171ms/step - loss: 1.3103\n",
            "Epoch 43/50\n",
            "1565/1565 [==============================] - 268s 171ms/step - loss: 1.3061\n",
            "Epoch 44/50\n",
            "1565/1565 [==============================] - 266s 170ms/step - loss: 1.3011\n",
            "Epoch 45/50\n",
            "1565/1565 [==============================] - 268s 171ms/step - loss: 1.2958\n",
            "Epoch 46/50\n",
            "1565/1565 [==============================] - 267s 171ms/step - loss: 1.2910\n",
            "Epoch 47/50\n",
            "1565/1565 [==============================] - 268s 171ms/step - loss: 1.2867\n",
            "Epoch 48/50\n",
            "1565/1565 [==============================] - 269s 172ms/step - loss: 1.2818\n",
            "Epoch 49/50\n",
            "1565/1565 [==============================] - 272s 174ms/step - loss: 1.2766\n",
            "Epoch 50/50\n",
            "1565/1565 [==============================] - 269s 172ms/step - loss: 1.2717\n"
          ]
        }
      ]
    },
    {
      "cell_type": "code",
      "source": [
        "from google.colab import files\n",
        "\n",
        "model = model.save('mymodel.hdf5')\n",
        "files.download('mymodel.hdf5')"
      ],
      "metadata": {
        "id": "Xp8Ij7aflof3",
        "colab": {
          "base_uri": "https://localhost:8080/",
          "height": 17
        },
        "outputId": "dbbfce5b-f78e-4a08-9f90-394f728a0e0b"
      },
      "execution_count": 23,
      "outputs": [
        {
          "output_type": "display_data",
          "data": {
            "text/plain": [
              "<IPython.core.display.Javascript object>"
            ],
            "application/javascript": [
              "\n",
              "    async function download(id, filename, size) {\n",
              "      if (!google.colab.kernel.accessAllowed) {\n",
              "        return;\n",
              "      }\n",
              "      const div = document.createElement('div');\n",
              "      const label = document.createElement('label');\n",
              "      label.textContent = `Downloading \"${filename}\": `;\n",
              "      div.appendChild(label);\n",
              "      const progress = document.createElement('progress');\n",
              "      progress.max = size;\n",
              "      div.appendChild(progress);\n",
              "      document.body.appendChild(div);\n",
              "\n",
              "      const buffers = [];\n",
              "      let downloaded = 0;\n",
              "\n",
              "      const channel = await google.colab.kernel.comms.open(id);\n",
              "      // Send a message to notify the kernel that we're ready.\n",
              "      channel.send({})\n",
              "\n",
              "      for await (const message of channel.messages) {\n",
              "        // Send a message to notify the kernel that we're ready.\n",
              "        channel.send({})\n",
              "        if (message.buffers) {\n",
              "          for (const buffer of message.buffers) {\n",
              "            buffers.push(buffer);\n",
              "            downloaded += buffer.byteLength;\n",
              "            progress.value = downloaded;\n",
              "          }\n",
              "        }\n",
              "      }\n",
              "      const blob = new Blob(buffers, {type: 'application/binary'});\n",
              "      const a = document.createElement('a');\n",
              "      a.href = window.URL.createObjectURL(blob);\n",
              "      a.download = filename;\n",
              "      div.appendChild(a);\n",
              "      a.click();\n",
              "      div.remove();\n",
              "    }\n",
              "  "
            ]
          },
          "metadata": {}
        },
        {
          "output_type": "display_data",
          "data": {
            "text/plain": [
              "<IPython.core.display.Javascript object>"
            ],
            "application/javascript": [
              "download(\"download_afa3210d-336c-4b9b-994d-fd28b1fc16d4\", \"mymodel.hdf5\", 1262112)"
            ]
          },
          "metadata": {}
        }
      ]
    },
    {
      "cell_type": "code",
      "source": [
        "model = load_model('/content/mymodel.hdf5')\n",
        "model.summary()"
      ],
      "metadata": {
        "colab": {
          "base_uri": "https://localhost:8080/"
        },
        "id": "AfjC-UJtToyx",
        "outputId": "391ac31a-a39d-4fb8-de18-76dfd4e9523f"
      },
      "execution_count": 16,
      "outputs": [
        {
          "output_type": "stream",
          "name": "stdout",
          "text": [
            "Model: \"model_1\"\n",
            "_________________________________________________________________\n",
            " Layer (type)                Output Shape              Param #   \n",
            "=================================================================\n",
            " input_2 (InputLayer)        [(None, 60, 57)]          0         \n",
            "                                                                 \n",
            " lstm_1 (LSTM)               (None, 128)               95232     \n",
            "                                                                 \n",
            " dense_1 (Dense)             (None, 57)                7353      \n",
            "                                                                 \n",
            "=================================================================\n",
            "Total params: 102,585\n",
            "Trainable params: 102,585\n",
            "Non-trainable params: 0\n",
            "_________________________________________________________________\n"
          ]
        }
      ]
    },
    {
      "cell_type": "code",
      "source": [
        "def plot_learning_curve(history):\n",
        "  loss = history.history['loss']\n",
        "  epochs = [i for i, _ in enumerate(loss)]\n",
        "  plt.scatter(epochs, loss, color='skyblue')\n",
        "  plt.xlabel('Epochs'); plt.ylabel('Cross Entropy Loss')\n",
        "  plt.show()"
      ],
      "metadata": {
        "id": "bIhnkUfc3FKB"
      },
      "execution_count": 25,
      "outputs": []
    },
    {
      "cell_type": "code",
      "source": [
        "plot_learning_curve(history)"
      ],
      "metadata": {
        "colab": {
          "base_uri": "https://localhost:8080/",
          "height": 364
        },
        "id": "Oroy1fPzQ-gy",
        "outputId": "844b20e9-1324-45e2-866e-2ef181bec8f9"
      },
      "execution_count": 26,
      "outputs": [
        {
          "output_type": "display_data",
          "data": {
            "text/plain": [
              "<Figure size 576x396 with 1 Axes>"
            ],
            "image/png": "[encoded data removed]"
          },
          "metadata": {}
        }
      ]
    },
    {
      "cell_type": "code",
      "source": [
        "def random_predict(prediction, temperature):\n",
        "  prediction = np.asarray(prediction).astype('float64')\n",
        "  log_pred = np.log(prediction) / temperature\n",
        "  exp_pred = np.exp(log_pred)\n",
        "  final_pred = exp_pred / np.sum(exp_pred)\n",
        "  final_pred = final_pred.flatten()\n",
        "  random_pred = np.random.multinomial(1, final_pred)\n",
        "  return random_pred"
      ],
      "metadata": {
        "id": "UJvAnaL9RE1a"
      },
      "execution_count": 13,
      "outputs": []
    },
    {
      "cell_type": "code",
      "source": [
        "def generate_text(model, data, iter_num, seed, char_dict, temperature=1, max_len=60):\n",
        "  entire_text = list(data[seed])\n",
        "  for i in range(iter_num):\n",
        "    prediction = random_predict(model.predict(np.array([[entire_text[i: i + max_len]]])[0]), temperature)\n",
        "    entire_text.append(prediction)\n",
        "  reverse_char_dict = {value: key for key, value in char_dict.items()}\n",
        "  generated_text = ''\n",
        "  for char_vec in entire_text:\n",
        "    index = np.argmax(char_vec)\n",
        "    generated_text += reverse_char_dict[index]\n",
        "  return generated_text"
      ],
      "metadata": {
        "id": "rsXtZtz1SldD"
      },
      "execution_count": 14,
      "outputs": []
    },
    {
      "cell_type": "code",
      "source": [
        "type(X)"
      ],
      "metadata": {
        "colab": {
          "base_uri": "https://localhost:8080/"
        },
        "id": "2EPS00Zb_gm3",
        "outputId": "a0764e07-a5f6-4281-9e4b-60cffacdcaa5"
      },
      "execution_count": 15,
      "outputs": [
        {
          "output_type": "execute_result",
          "data": {
            "text/plain": [
              "numpy.ndarray"
            ]
          },
          "metadata": {},
          "execution_count": 15
        }
      ]
    },
    {
      "cell_type": "code",
      "source": [
        "model.predict(X)"
      ],
      "metadata": {
        "colab": {
          "base_uri": "https://localhost:8080/",
          "height": 328
        },
        "id": "BfWjpY6Q_ojw",
        "outputId": "d74495f2-5068-4ee3-fe4b-9727ca6adb2b"
      },
      "execution_count": 17,
      "outputs": [
        {
          "output_type": "error",
          "ename": "KeyboardInterrupt",
          "evalue": "ignored",
          "traceback": [
            "\u001b[0;31m---------------------------------------------------------------------------\u001b[0m",
            "\u001b[0;31mKeyboardInterrupt\u001b[0m                         Traceback (most recent call last)",
            "\u001b[0;32m<ipython-input-17-43a58eb494e8>\u001b[0m in \u001b[0;36m<module>\u001b[0;34m()\u001b[0m\n\u001b[0;32m----> 1\u001b[0;31m \u001b[0mmodel\u001b[0m\u001b[0;34m.\u001b[0m\u001b[0mpredict\u001b[0m\u001b[0;34m(\u001b[0m\u001b[0mX\u001b[0m\u001b[0;34m)\u001b[0m\u001b[0;34m\u001b[0m\u001b[0;34m\u001b[0m\u001b[0m\n\u001b[0m",
            "\u001b[0;32m/usr/local/lib/python3.7/dist-packages/keras/utils/traceback_utils.py\u001b[0m in \u001b[0;36merror_handler\u001b[0;34m(*args, **kwargs)\u001b[0m\n\u001b[1;32m     62\u001b[0m     \u001b[0mfiltered_tb\u001b[0m \u001b[0;34m=\u001b[0m \u001b[0;32mNone\u001b[0m\u001b[0;34m\u001b[0m\u001b[0;34m\u001b[0m\u001b[0m\n\u001b[1;32m     63\u001b[0m     \u001b[0;32mtry\u001b[0m\u001b[0;34m:\u001b[0m\u001b[0;34m\u001b[0m\u001b[0;34m\u001b[0m\u001b[0m\n\u001b[0;32m---> 64\u001b[0;31m       \u001b[0;32mreturn\u001b[0m \u001b[0mfn\u001b[0m\u001b[0;34m(\u001b[0m\u001b[0;34m*\u001b[0m\u001b[0margs\u001b[0m\u001b[0;34m,\u001b[0m \u001b[0;34m**\u001b[0m\u001b[0mkwargs\u001b[0m\u001b[0;34m)\u001b[0m\u001b[0;34m\u001b[0m\u001b[0;34m\u001b[0m\u001b[0m\n\u001b[0m\u001b[1;32m     65\u001b[0m     \u001b[0;32mexcept\u001b[0m \u001b[0mException\u001b[0m \u001b[0;32mas\u001b[0m \u001b[0me\u001b[0m\u001b[0;34m:\u001b[0m  \u001b[0;31m# pylint: disable=broad-except\u001b[0m\u001b[0;34m\u001b[0m\u001b[0;34m\u001b[0m\u001b[0m\n\u001b[1;32m     66\u001b[0m       \u001b[0mfiltered_tb\u001b[0m \u001b[0;34m=\u001b[0m \u001b[0m_process_traceback_frames\u001b[0m\u001b[0;34m(\u001b[0m\u001b[0me\u001b[0m\u001b[0;34m.\u001b[0m\u001b[0m__traceback__\u001b[0m\u001b[0;34m)\u001b[0m\u001b[0;34m\u001b[0m\u001b[0;34m\u001b[0m\u001b[0m\n",
            "\u001b[0;32m/usr/local/lib/python3.7/dist-packages/keras/engine/training.py\u001b[0m in \u001b[0;36mpredict\u001b[0;34m(self, x, batch_size, verbose, steps, callbacks, max_queue_size, workers, use_multiprocessing)\u001b[0m\n\u001b[1;32m   1980\u001b[0m           \u001b[0;32mfor\u001b[0m \u001b[0mstep\u001b[0m \u001b[0;32min\u001b[0m \u001b[0mdata_handler\u001b[0m\u001b[0;34m.\u001b[0m\u001b[0msteps\u001b[0m\u001b[0;34m(\u001b[0m\u001b[0;34m)\u001b[0m\u001b[0;34m:\u001b[0m\u001b[0;34m\u001b[0m\u001b[0;34m\u001b[0m\u001b[0m\n\u001b[1;32m   1981\u001b[0m             \u001b[0mcallbacks\u001b[0m\u001b[0;34m.\u001b[0m\u001b[0mon_predict_batch_begin\u001b[0m\u001b[0;34m(\u001b[0m\u001b[0mstep\u001b[0m\u001b[0;34m)\u001b[0m\u001b[0;34m\u001b[0m\u001b[0;34m\u001b[0m\u001b[0m\n\u001b[0;32m-> 1982\u001b[0;31m             \u001b[0mtmp_batch_outputs\u001b[0m \u001b[0;34m=\u001b[0m \u001b[0mself\u001b[0m\u001b[0;34m.\u001b[0m\u001b[0mpredict_function\u001b[0m\u001b[0;34m(\u001b[0m\u001b[0miterator\u001b[0m\u001b[0;34m)\u001b[0m\u001b[0;34m\u001b[0m\u001b[0;34m\u001b[0m\u001b[0m\n\u001b[0m\u001b[1;32m   1983\u001b[0m             \u001b[0;32mif\u001b[0m \u001b[0mdata_handler\u001b[0m\u001b[0;34m.\u001b[0m\u001b[0mshould_sync\u001b[0m\u001b[0;34m:\u001b[0m\u001b[0;34m\u001b[0m\u001b[0;34m\u001b[0m\u001b[0m\n\u001b[1;32m   1984\u001b[0m               \u001b[0mcontext\u001b[0m\u001b[0;34m.\u001b[0m\u001b[0masync_wait\u001b[0m\u001b[0;34m(\u001b[0m\u001b[0;34m)\u001b[0m\u001b[0;34m\u001b[0m\u001b[0;34m\u001b[0m\u001b[0m\n",
            "\u001b[0;32m/usr/local/lib/python3.7/dist-packages/tensorflow/python/util/traceback_utils.py\u001b[0m in \u001b[0;36merror_handler\u001b[0;34m(*args, **kwargs)\u001b[0m\n\u001b[1;32m    148\u001b[0m     \u001b[0mfiltered_tb\u001b[0m \u001b[0;34m=\u001b[0m \u001b[0;32mNone\u001b[0m\u001b[0;34m\u001b[0m\u001b[0;34m\u001b[0m\u001b[0m\n\u001b[1;32m    149\u001b[0m     \u001b[0;32mtry\u001b[0m\u001b[0;34m:\u001b[0m\u001b[0;34m\u001b[0m\u001b[0;34m\u001b[0m\u001b[0m\n\u001b[0;32m--> 150\u001b[0;31m       \u001b[0;32mreturn\u001b[0m \u001b[0mfn\u001b[0m\u001b[0;34m(\u001b[0m\u001b[0;34m*\u001b[0m\u001b[0margs\u001b[0m\u001b[0;34m,\u001b[0m \u001b[0;34m**\u001b[0m\u001b[0mkwargs\u001b[0m\u001b[0;34m)\u001b[0m\u001b[0;34m\u001b[0m\u001b[0;34m\u001b[0m\u001b[0m\n\u001b[0m\u001b[1;32m    151\u001b[0m     \u001b[0;32mexcept\u001b[0m \u001b[0mException\u001b[0m \u001b[0;32mas\u001b[0m \u001b[0me\u001b[0m\u001b[0;34m:\u001b[0m\u001b[0;34m\u001b[0m\u001b[0;34m\u001b[0m\u001b[0m\n\u001b[1;32m    152\u001b[0m       \u001b[0mfiltered_tb\u001b[0m \u001b[0;34m=\u001b[0m \u001b[0m_process_traceback_frames\u001b[0m\u001b[0;34m(\u001b[0m\u001b[0me\u001b[0m\u001b[0;34m.\u001b[0m\u001b[0m__traceback__\u001b[0m\u001b[0;34m)\u001b[0m\u001b[0;34m\u001b[0m\u001b[0;34m\u001b[0m\u001b[0m\n",
            "\u001b[0;32m/usr/local/lib/python3.7/dist-packages/tensorflow/python/eager/def_function.py\u001b[0m in \u001b[0;36m__call__\u001b[0;34m(self, *args, **kwds)\u001b[0m\n\u001b[1;32m    913\u001b[0m \u001b[0;34m\u001b[0m\u001b[0m\n\u001b[1;32m    914\u001b[0m       \u001b[0;32mwith\u001b[0m \u001b[0mOptionalXlaContext\u001b[0m\u001b[0;34m(\u001b[0m\u001b[0mself\u001b[0m\u001b[0;34m.\u001b[0m\u001b[0m_jit_compile\u001b[0m\u001b[0;34m)\u001b[0m\u001b[0;34m:\u001b[0m\u001b[0;34m\u001b[0m\u001b[0;34m\u001b[0m\u001b[0m\n\u001b[0;32m--> 915\u001b[0;31m         \u001b[0mresult\u001b[0m \u001b[0;34m=\u001b[0m \u001b[0mself\u001b[0m\u001b[0;34m.\u001b[0m\u001b[0m_call\u001b[0m\u001b[0;34m(\u001b[0m\u001b[0;34m*\u001b[0m\u001b[0margs\u001b[0m\u001b[0;34m,\u001b[0m \u001b[0;34m**\u001b[0m\u001b[0mkwds\u001b[0m\u001b[0;34m)\u001b[0m\u001b[0;34m\u001b[0m\u001b[0;34m\u001b[0m\u001b[0m\n\u001b[0m\u001b[1;32m    916\u001b[0m \u001b[0;34m\u001b[0m\u001b[0m\n\u001b[1;32m    917\u001b[0m       \u001b[0mnew_tracing_count\u001b[0m \u001b[0;34m=\u001b[0m \u001b[0mself\u001b[0m\u001b[0;34m.\u001b[0m\u001b[0mexperimental_get_tracing_count\u001b[0m\u001b[0;34m(\u001b[0m\u001b[0;34m)\u001b[0m\u001b[0;34m\u001b[0m\u001b[0;34m\u001b[0m\u001b[0m\n",
            "\u001b[0;32m/usr/local/lib/python3.7/dist-packages/tensorflow/python/eager/def_function.py\u001b[0m in \u001b[0;36m_call\u001b[0;34m(self, *args, **kwds)\u001b[0m\n\u001b[1;32m    952\u001b[0m       \u001b[0;31m# In this case we have not created variables on the first call. So we can\u001b[0m\u001b[0;34m\u001b[0m\u001b[0;34m\u001b[0m\u001b[0;34m\u001b[0m\u001b[0m\n\u001b[1;32m    953\u001b[0m       \u001b[0;31m# run the first trace but we should fail if variables are created.\u001b[0m\u001b[0;34m\u001b[0m\u001b[0;34m\u001b[0m\u001b[0;34m\u001b[0m\u001b[0m\n\u001b[0;32m--> 954\u001b[0;31m       \u001b[0mresults\u001b[0m \u001b[0;34m=\u001b[0m \u001b[0mself\u001b[0m\u001b[0;34m.\u001b[0m\u001b[0m_stateful_fn\u001b[0m\u001b[0;34m(\u001b[0m\u001b[0;34m*\u001b[0m\u001b[0margs\u001b[0m\u001b[0;34m,\u001b[0m \u001b[0;34m**\u001b[0m\u001b[0mkwds\u001b[0m\u001b[0;34m)\u001b[0m\u001b[0;34m\u001b[0m\u001b[0;34m\u001b[0m\u001b[0m\n\u001b[0m\u001b[1;32m    955\u001b[0m       \u001b[0;32mif\u001b[0m \u001b[0mself\u001b[0m\u001b[0;34m.\u001b[0m\u001b[0m_created_variables\u001b[0m \u001b[0;32mand\u001b[0m \u001b[0;32mnot\u001b[0m \u001b[0mALLOW_DYNAMIC_VARIABLE_CREATION\u001b[0m\u001b[0;34m:\u001b[0m\u001b[0;34m\u001b[0m\u001b[0;34m\u001b[0m\u001b[0m\n\u001b[1;32m    956\u001b[0m         raise ValueError(\"Creating variables on a non-first call to a function\"\n",
            "\u001b[0;32m/usr/local/lib/python3.7/dist-packages/tensorflow/python/eager/function.py\u001b[0m in \u001b[0;36m__call__\u001b[0;34m(self, *args, **kwargs)\u001b[0m\n\u001b[1;32m   2955\u001b[0m        filtered_flat_args) = self._maybe_define_function(args, kwargs)\n\u001b[1;32m   2956\u001b[0m     return graph_function._call_flat(\n\u001b[0;32m-> 2957\u001b[0;31m         filtered_flat_args, captured_inputs=graph_function.captured_inputs)  # pylint: disable=protected-access\n\u001b[0m\u001b[1;32m   2958\u001b[0m \u001b[0;34m\u001b[0m\u001b[0m\n\u001b[1;32m   2959\u001b[0m   \u001b[0;34m@\u001b[0m\u001b[0mproperty\u001b[0m\u001b[0;34m\u001b[0m\u001b[0;34m\u001b[0m\u001b[0m\n",
            "\u001b[0;32m/usr/local/lib/python3.7/dist-packages/tensorflow/python/eager/function.py\u001b[0m in \u001b[0;36m_call_flat\u001b[0;34m(self, args, captured_inputs, cancellation_manager)\u001b[0m\n\u001b[1;32m   1852\u001b[0m       \u001b[0;31m# No tape is watching; skip to running the function.\u001b[0m\u001b[0;34m\u001b[0m\u001b[0;34m\u001b[0m\u001b[0;34m\u001b[0m\u001b[0m\n\u001b[1;32m   1853\u001b[0m       return self._build_call_outputs(self._inference_function.call(\n\u001b[0;32m-> 1854\u001b[0;31m           ctx, args, cancellation_manager=cancellation_manager))\n\u001b[0m\u001b[1;32m   1855\u001b[0m     forward_backward = self._select_forward_and_backward_functions(\n\u001b[1;32m   1856\u001b[0m         \u001b[0margs\u001b[0m\u001b[0;34m,\u001b[0m\u001b[0;34m\u001b[0m\u001b[0;34m\u001b[0m\u001b[0m\n",
            "\u001b[0;32m/usr/local/lib/python3.7/dist-packages/tensorflow/python/eager/function.py\u001b[0m in \u001b[0;36mcall\u001b[0;34m(self, ctx, args, cancellation_manager)\u001b[0m\n\u001b[1;32m    502\u001b[0m               \u001b[0minputs\u001b[0m\u001b[0;34m=\u001b[0m\u001b[0margs\u001b[0m\u001b[0;34m,\u001b[0m\u001b[0;34m\u001b[0m\u001b[0;34m\u001b[0m\u001b[0m\n\u001b[1;32m    503\u001b[0m               \u001b[0mattrs\u001b[0m\u001b[0;34m=\u001b[0m\u001b[0mattrs\u001b[0m\u001b[0;34m,\u001b[0m\u001b[0;34m\u001b[0m\u001b[0;34m\u001b[0m\u001b[0m\n\u001b[0;32m--> 504\u001b[0;31m               ctx=ctx)\n\u001b[0m\u001b[1;32m    505\u001b[0m         \u001b[0;32melse\u001b[0m\u001b[0;34m:\u001b[0m\u001b[0;34m\u001b[0m\u001b[0;34m\u001b[0m\u001b[0m\n\u001b[1;32m    506\u001b[0m           outputs = execute.execute_with_cancellation(\n",
            "\u001b[0;32m/usr/local/lib/python3.7/dist-packages/tensorflow/python/eager/execute.py\u001b[0m in \u001b[0;36mquick_execute\u001b[0;34m(op_name, num_outputs, inputs, attrs, ctx, name)\u001b[0m\n\u001b[1;32m     53\u001b[0m     \u001b[0mctx\u001b[0m\u001b[0;34m.\u001b[0m\u001b[0mensure_initialized\u001b[0m\u001b[0;34m(\u001b[0m\u001b[0;34m)\u001b[0m\u001b[0;34m\u001b[0m\u001b[0;34m\u001b[0m\u001b[0m\n\u001b[1;32m     54\u001b[0m     tensors = pywrap_tfe.TFE_Py_Execute(ctx._handle, device_name, op_name,\n\u001b[0;32m---> 55\u001b[0;31m                                         inputs, attrs, num_outputs)\n\u001b[0m\u001b[1;32m     56\u001b[0m   \u001b[0;32mexcept\u001b[0m \u001b[0mcore\u001b[0m\u001b[0;34m.\u001b[0m\u001b[0m_NotOkStatusException\u001b[0m \u001b[0;32mas\u001b[0m \u001b[0me\u001b[0m\u001b[0;34m:\u001b[0m\u001b[0;34m\u001b[0m\u001b[0;34m\u001b[0m\u001b[0m\n\u001b[1;32m     57\u001b[0m     \u001b[0;32mif\u001b[0m \u001b[0mname\u001b[0m \u001b[0;32mis\u001b[0m \u001b[0;32mnot\u001b[0m \u001b[0;32mNone\u001b[0m\u001b[0;34m:\u001b[0m\u001b[0;34m\u001b[0m\u001b[0;34m\u001b[0m\u001b[0m\n",
            "\u001b[0;31mKeyboardInterrupt\u001b[0m: "
          ]
        }
      ]
    },
    {
      "cell_type": "code",
      "source": [
        "entire_text = (X[10])\n",
        "i=0\n",
        "print(entire_text)\n",
        "a = np.array(([[entire_text[i: i + max_len]]])[0])\n",
        "a\n",
        "model.predict(a)\n"
      ],
      "metadata": {
        "colab": {
          "base_uri": "https://localhost:8080/"
        },
        "id": "qw5Dd1R3frTy",
        "outputId": "827bf25a-8d77-4bdd-d43a-6672939f6acf"
      },
      "execution_count": null,
      "outputs": [
        {
          "output_type": "stream",
          "name": "stdout",
          "text": [
            "[[False  True False ... False False False]\n",
            " [False False False ... False False False]\n",
            " [False False False ... False False False]\n",
            " ...\n",
            " [False False False ... False False False]\n",
            " [False  True False ... False False False]\n",
            " [False False False ... False False False]]\n"
          ]
        },
        {
          "output_type": "execute_result",
          "data": {
            "text/plain": [
              "array([[2.8086667e-06, 4.9823830e-06, 8.2453617e-09, 1.7567046e-07,\n",
              "        8.4174870e-05, 2.1358336e-07, 2.3797422e-09, 4.0044455e-08,\n",
              "        1.8252071e-07, 2.7727154e-07, 3.3603174e-09, 4.7401745e-08,\n",
              "        1.4057508e-07, 8.3895486e-09, 3.7325037e-08, 5.9279252e-08,\n",
              "        2.0100467e-08, 7.6987998e-09, 4.4815174e-08, 3.1720578e-08,\n",
              "        1.5306599e-08, 7.1588047e-09, 8.2322549e-13, 3.3898150e-08,\n",
              "        7.6192865e-09, 7.9471567e-09, 2.0786779e-10, 1.5508159e-02,\n",
              "        2.8182052e-08, 1.8357947e-07, 4.4062731e-06, 3.1298392e-02,\n",
              "        4.0477057e-06, 4.4834723e-09, 7.2955328e-01, 2.6867099e-02,\n",
              "        2.8248983e-09, 4.7766452e-10, 3.0145460e-05, 4.3924947e-06,\n",
              "        7.2215196e-05, 1.3632157e-01, 2.5746774e-06, 1.4442659e-08,\n",
              "        4.7853824e-02, 1.2300913e-04, 1.5389058e-05, 4.8710201e-03,\n",
              "        1.4708068e-07, 2.7040881e-03, 2.3356579e-07, 4.6718218e-03,\n",
              "        5.5740279e-09, 7.4044458e-08, 1.4936142e-16, 4.2403715e-07,\n",
              "        4.9932129e-12]], dtype=float32)"
            ]
          },
          "metadata": {},
          "execution_count": 46
        }
      ]
    },
    {
      "cell_type": "code",
      "source": [
        "generate_text(model,X,20,3,char_dict)"
      ],
      "metadata": {
        "id": "avfRe_ART-8K",
        "colab": {
          "base_uri": "https://localhost:8080/",
          "height": 35
        },
        "outputId": "8bd3a91b-2bf4-45bc-d741-0770af0eca8c"
      },
      "execution_count": 19,
      "outputs": [
        {
          "output_type": "execute_result",
          "data": {
            "text/plain": [
              "'\\nsupposing that truth is a woman--what then? is there not grouduncy, i mystical '"
            ],
            "application/vnd.google.colaboratory.intrinsic+json": {
              "type": "string"
            }
          },
          "metadata": {},
          "execution_count": 19
        }
      ]
    },
    {
      "cell_type": "markdown",
      "source": [
        "# Apply Trained model with TURKISH "
      ],
      "metadata": {
        "id": "NeJppzOQc8Y2"
      }
    },
    {
      "cell_type": "markdown",
      "source": [
        "- Download TR dataset"
      ],
      "metadata": {
        "id": "jsMIdJRBgtkV"
      }
    },
    {
      "cell_type": "code",
      "source": [
        "!pip install kaggle"
      ],
      "metadata": {
        "colab": {
          "base_uri": "https://localhost:8080/"
        },
        "id": "h60VmaqxdG7H",
        "outputId": "34bb392d-0272-4ca6-b5a1-3ea68e5f1ec1"
      },
      "execution_count": 27,
      "outputs": [
        {
          "output_type": "stream",
          "name": "stdout",
          "text": [
            "Requirement already satisfied: kaggle in /usr/local/lib/python3.7/dist-packages (1.5.12)\n",
            "Requirement already satisfied: python-dateutil in /usr/local/lib/python3.7/dist-packages (from kaggle) (2.8.2)\n",
            "Requirement already satisfied: requests in /usr/local/lib/python3.7/dist-packages (from kaggle) (2.23.0)\n",
            "Requirement already satisfied: certifi in /usr/local/lib/python3.7/dist-packages (from kaggle) (2021.10.8)\n",
            "Requirement already satisfied: tqdm in /usr/local/lib/python3.7/dist-packages (from kaggle) (4.63.0)\n",
            "Requirement already satisfied: urllib3 in /usr/local/lib/python3.7/dist-packages (from kaggle) (1.24.3)\n",
            "Requirement already satisfied: six>=1.10 in /usr/local/lib/python3.7/dist-packages (from kaggle) (1.15.0)\n",
            "Requirement already satisfied: python-slugify in /usr/local/lib/python3.7/dist-packages (from kaggle) (6.1.1)\n",
            "Requirement already satisfied: text-unidecode>=1.3 in /usr/local/lib/python3.7/dist-packages (from python-slugify->kaggle) (1.3)\n",
            "Requirement already satisfied: idna<3,>=2.5 in /usr/local/lib/python3.7/dist-packages (from requests->kaggle) (2.10)\n",
            "Requirement already satisfied: chardet<4,>=3.0.2 in /usr/local/lib/python3.7/dist-packages (from requests->kaggle) (3.0.4)\n"
          ]
        }
      ]
    },
    {
      "cell_type": "code",
      "source": [
        "!ls "
      ],
      "metadata": {
        "colab": {
          "base_uri": "https://localhost:8080/"
        },
        "id": "dBd9R2UmffaN",
        "outputId": "595c00c4-d71e-44d5-cd73-2f6f6dc65536"
      },
      "execution_count": 28,
      "outputs": [
        {
          "output_type": "stream",
          "name": "stdout",
          "text": [
            "model.hdf5  model.png  mymodel.hdf5  sample_data\n"
          ]
        }
      ]
    },
    {
      "cell_type": "code",
      "source": [
        "!mkdir ~/.kaggle"
      ],
      "metadata": {
        "id": "aFrb7FfxfhFd"
      },
      "execution_count": 29,
      "outputs": []
    },
    {
      "cell_type": "code",
      "source": [
        "!cp kaggle.json ~/.kaggle/"
      ],
      "metadata": {
        "id": "4WTAxBGlf1Im"
      },
      "execution_count": 31,
      "outputs": []
    },
    {
      "cell_type": "code",
      "source": [
        "!chmod 600 ~/.kaggle/kaggle.json"
      ],
      "metadata": {
        "id": "1cXc8SPzgE1c"
      },
      "execution_count": 32,
      "outputs": []
    },
    {
      "cell_type": "code",
      "source": [
        "!pip install --upgrade --force-reinstall --no-deps kaggle"
      ],
      "metadata": {
        "colab": {
          "base_uri": "https://localhost:8080/"
        },
        "id": "URI0PgoBgHnm",
        "outputId": "7582b10f-fbc0-40ab-8c18-1562d1cfe458"
      },
      "execution_count": 33,
      "outputs": [
        {
          "output_type": "stream",
          "name": "stdout",
          "text": [
            "Collecting kaggle\n",
            "  Downloading kaggle-1.5.12.tar.gz (58 kB)\n",
            "\u001b[?25l\r\u001b[K     |█████▋                          | 10 kB 15.5 MB/s eta 0:00:01\r\u001b[K     |███████████▏                    | 20 kB 14.2 MB/s eta 0:00:01\r\u001b[K     |████████████████▊               | 30 kB 8.8 MB/s eta 0:00:01\r\u001b[K     |██████████████████████▎         | 40 kB 9.0 MB/s eta 0:00:01\r\u001b[K     |███████████████████████████▉    | 51 kB 8.0 MB/s eta 0:00:01\r\u001b[K     |████████████████████████████████| 58 kB 3.3 MB/s \n",
            "\u001b[?25hBuilding wheels for collected packages: kaggle\n",
            "  Building wheel for kaggle (setup.py) ... \u001b[?25l\u001b[?25hdone\n",
            "  Created wheel for kaggle: filename=kaggle-1.5.12-py3-none-any.whl size=73051 sha256=6882d025ef446dfe3f9fc6691cc9afef4131c6c01e0e3326dccbb2c90075b0b5\n",
            "  Stored in directory: /root/.cache/pip/wheels/62/d6/58/5853130f941e75b2177d281eb7e44b4a98ed46dd155f556dc5\n",
            "Successfully built kaggle\n",
            "Installing collected packages: kaggle\n",
            "  Attempting uninstall: kaggle\n",
            "    Found existing installation: kaggle 1.5.12\n",
            "    Uninstalling kaggle-1.5.12:\n",
            "      Successfully uninstalled kaggle-1.5.12\n",
            "Successfully installed kaggle-1.5.12\n"
          ]
        }
      ]
    },
    {
      "cell_type": "code",
      "source": [
        "!kaggle datasets download ahmetax/hury-dataset"
      ],
      "metadata": {
        "colab": {
          "base_uri": "https://localhost:8080/"
        },
        "id": "bpYWlywogM1t",
        "outputId": "0f31ed01-8a25-4330-f588-f5db8eb8fbb2"
      },
      "execution_count": 34,
      "outputs": [
        {
          "output_type": "stream",
          "name": "stdout",
          "text": [
            "Downloading hury-dataset.zip to /content\n",
            "\r  0% 0.00/17.8M [00:00<?, ?B/s]\r 28% 5.00M/17.8M [00:00<00:00, 35.8MB/s]\n",
            "\r100% 17.8M/17.8M [00:00<00:00, 84.7MB/s]\n"
          ]
        }
      ]
    },
    {
      "cell_type": "code",
      "source": [
        "!unzip hury-dataset.zip"
      ],
      "metadata": {
        "colab": {
          "base_uri": "https://localhost:8080/"
        },
        "id": "-fCoV4nIgjbE",
        "outputId": "77251595-7d17-4590-d644-614c6b16854e"
      },
      "execution_count": 35,
      "outputs": [
        {
          "output_type": "stream",
          "name": "stdout",
          "text": [
            "Archive:  hury-dataset.zip\n",
            "  inflating: dunya-nz.txt            \n"
          ]
        }
      ]
    },
    {
      "cell_type": "code",
      "source": [
        "tr_text = open('/content/dunya-nz.txt').read().lower()\n",
        "print(tr_text[:25])"
      ],
      "metadata": {
        "colab": {
          "base_uri": "https://localhost:8080/"
        },
        "id": "v1DoXViMgyuU",
        "outputId": "6eaa938e-4877-4407-c358-188aa29b3def"
      },
      "execution_count": 23,
      "outputs": [
        {
          "output_type": "stream",
          "name": "stdout",
          "text": [
            "iran devlet televizyonu ü\n"
          ]
        }
      ]
    },
    {
      "cell_type": "code",
      "source": [
        "lenght = len(text_data)\n",
        "lenght"
      ],
      "metadata": {
        "colab": {
          "base_uri": "https://localhost:8080/"
        },
        "id": "-huG3e_cl9J0",
        "outputId": "5e0fdf11-0920-4523-bb6c-d6aaab83ecff"
      },
      "execution_count": 27,
      "outputs": [
        {
          "output_type": "execute_result",
          "data": {
            "text/plain": [
              "600893"
            ]
          },
          "metadata": {},
          "execution_count": 27
        }
      ]
    },
    {
      "cell_type": "code",
      "source": [
        "tr_text = tr_text[:lenght]\n",
        "len(tr_text)"
      ],
      "metadata": {
        "colab": {
          "base_uri": "https://localhost:8080/"
        },
        "id": "aKs-damRlmOF",
        "outputId": "b1294e7a-809d-42f3-edf1-2404e390fcbe"
      },
      "execution_count": 28,
      "outputs": [
        {
          "output_type": "execute_result",
          "data": {
            "text/plain": [
              "600893"
            ]
          },
          "metadata": {},
          "execution_count": 28
        }
      ]
    },
    {
      "cell_type": "code",
      "source": [
        "max_len = 60\n",
        "step = 3\n",
        "X_tr, y_tr, char_dict_tr = preprocess_split(tr_text, max_len, step)\n",
        "vocab_size = len(char_dict_tr)\n",
        "print(\"Number of sequences: {0}\\nNumber of unique characters: {1}\".format(len(X_tr), vocab_size))"
      ],
      "metadata": {
        "colab": {
          "base_uri": "https://localhost:8080/"
        },
        "id": "R8QWRzLmh_Nv",
        "outputId": "c08ebb0a-8f0f-449b-f815-644eb897f17b"
      },
      "execution_count": 29,
      "outputs": [
        {
          "output_type": "stream",
          "name": "stdout",
          "text": [
            "Number of sequences: 200278\n",
            "Number of unique characters: 44\n"
          ]
        }
      ]
    },
    {
      "cell_type": "code",
      "source": [
        "def build_model(max_len, vocab_size):\n",
        "  inputs = layers.Input(shape=(max_len, 44))\n",
        "  x = layers.LSTM(128)(inputs)\n",
        "  output = layers.Dense(vocab_size, activation=tf.nn.softmax)(x)\n",
        "  model = Model(inputs, output)\n",
        "  model.compile(optimizer='adam', loss=categorical_crossentropy)\n",
        "  return model"
      ],
      "metadata": {
        "id": "SEi-CPRznzCT"
      },
      "execution_count": 32,
      "outputs": []
    },
    {
      "cell_type": "code",
      "source": [
        "model_tr = build_model(max_len, vocab_size)\n",
        "plot_model(model_tr, show_shapes=True, show_layer_names=True)"
      ],
      "metadata": {
        "colab": {
          "base_uri": "https://localhost:8080/",
          "height": 312
        },
        "id": "EmAZsJNHoJZl",
        "outputId": "1f4b01fe-b155-4ef7-b90c-c86c8f63df68"
      },
      "execution_count": 35,
      "outputs": [
        {
          "output_type": "execute_result",
          "data": {
            "text/plain": [
              "<IPython.core.display.Image object>"
            ],
            "image/png": "[encoded data removed]"
          },
          "metadata": {},
          "execution_count": 35
        }
      ]
    },
    {
      "cell_type": "code",
      "source": [
        "history = model_tr.fit(X_tr, y_tr, epochs=10, batch_size=128)"
      ],
      "metadata": {
        "colab": {
          "base_uri": "https://localhost:8080/"
        },
        "id": "2FP5v_nDn8OV",
        "outputId": "5e86c2fe-ad00-4ecb-aa28-09e8e6ff65eb"
      },
      "execution_count": 37,
      "outputs": [
        {
          "output_type": "stream",
          "name": "stdout",
          "text": [
            "Epoch 1/10\n",
            "1565/1565 [==============================] - 272s 173ms/step - loss: 2.4608\n",
            "Epoch 2/10\n",
            "1565/1565 [==============================] - 263s 168ms/step - loss: 2.1479\n",
            "Epoch 3/10\n",
            "1565/1565 [==============================] - 264s 169ms/step - loss: 2.0380\n",
            "Epoch 4/10\n",
            "1565/1565 [==============================] - 264s 169ms/step - loss: 1.9471\n",
            "Epoch 5/10\n",
            "1565/1565 [==============================] - 262s 167ms/step - loss: 1.8663\n",
            "Epoch 6/10\n",
            "1565/1565 [==============================] - 263s 168ms/step - loss: 1.7985\n",
            "Epoch 7/10\n",
            "1565/1565 [==============================] - 263s 168ms/step - loss: 1.7402\n",
            "Epoch 8/10\n",
            "1565/1565 [==============================] - 265s 169ms/step - loss: 1.6913\n",
            "Epoch 9/10\n",
            "1565/1565 [==============================] - 263s 168ms/step - loss: 1.6495\n",
            "Epoch 10/10\n",
            "1565/1565 [==============================] - 261s 167ms/step - loss: 1.6137\n"
          ]
        }
      ]
    },
    {
      "cell_type": "code",
      "source": [
        "generate_text(model_tr,X_tr,20,3,char_dict_tr)"
      ],
      "metadata": {
        "colab": {
          "base_uri": "https://localhost:8080/",
          "height": 35
        },
        "id": "uhm384OUmiM0",
        "outputId": "85a31bdd-5917-41a6-e370-80d0c5b09a70"
      },
      "execution_count": 38,
      "outputs": [
        {
          "output_type": "execute_result",
          "data": {
            "text/plain": [
              "'et televizyonu ülkedeki eyaletin sinde yapılan reformcuları keddi \\nazdü pzecelle'"
            ],
            "application/vnd.google.colaboratory.intrinsic+json": {
              "type": "string"
            }
          },
          "metadata": {},
          "execution_count": 38
        }
      ]
    }
  ]
}